{
 "cells": [
  {
   "cell_type": "code",
   "execution_count": 1,
   "id": "cd362d4b",
   "metadata": {},
   "outputs": [],
   "source": [
    "import numpy as np\n",
    "import pandas as pd\n",
    "from sklearn.model_selection import train_test_split\n",
    "from sklearn.preprocessing import StandardScaler\n",
    "from sklearn.neural_network import MLPClassifier\n",
    "from sklearn.metrics import classification_report\n",
    "import matplotlib.pyplot as plt"
   ]
  },
  {
   "cell_type": "code",
   "execution_count": null,
   "id": "726b80e3",
   "metadata": {},
   "outputs": [],
   "source": [
    "data = pd.read_csv('datos_salud.csv')\n",
    "data.head()"
   ]
  },
  {
   "cell_type": "code",
   "execution_count": null,
   "id": "8e77f264",
   "metadata": {},
   "outputs": [],
   "source": [
    "X = data[['edad', 'imc', 'fuma', 'ejercicio']]\n",
    "y = data['riesgo_alto']\n",
    "\n",
    "X_train, X_test, y_train, y_test = train_test_split(X, y, test_size=0.2, random_state=42)"
   ]
  },
  {
   "cell_type": "code",
   "execution_count": null,
   "id": "5ebef9ca",
   "metadata": {},
   "outputs": [],
   "source": [
    "# Normalizamos para mejorar el entrenamiento\n",
    "scaler = StandardScaler()\n",
    "X_train = scaler.fit_transform(X_train)\n",
    "X_test = scaler.transform(X_test)"
   ]
  },
  {
   "cell_type": "code",
   "execution_count": null,
   "id": "53611fe2",
   "metadata": {},
   "outputs": [],
   "source": [
    "# MLPClassifier = Multilayer Perceptron (red neuronal densa)\n",
    "mlp = MLPClassifier(\n",
    "    hidden_layer_sizes=(8, 4),  # dos capas ocultas: 8 y 4 neuronas\n",
    "    activation='relu',           # función de activación ReLU\n",
    "    solver='adam',               # optimizador basado en gradiente descendente adaptativo\n",
    "    learning_rate_init=0.01,     # tasa de aprendizaje inicial\n",
    "    max_iter=500,                # número máximo de iteraciones (épocas)\n",
    "    random_state=42\n",
    ")\n",
    "\n",
    "mlp.fit(X_train, y_train)"
   ]
  },
  {
   "cell_type": "code",
   "execution_count": null,
   "id": "7bcff489",
   "metadata": {},
   "outputs": [],
   "source": [
    "y_pred = mlp.predict(X_test)\n",
    "print(classification_report(y_test, y_pred))"
   ]
  },
  {
   "cell_type": "code",
   "execution_count": null,
   "id": "fafaa107",
   "metadata": {},
   "outputs": [],
   "source": [
    "plt.figure(figsize=(7,4))\n",
    "plt.plot(mlp.loss_curve_, marker='o')\n",
    "plt.title('Evolución de la función de pérdida (Loss)')\n",
    "plt.xlabel('Iteraciones')\n",
    "plt.ylabel('Pérdida')\n",
    "plt.grid(True)\n",
    "plt.show()"
   ]
  },
  {
   "cell_type": "code",
   "execution_count": null,
   "id": "7d57b8e0",
   "metadata": {},
   "outputs": [],
   "source": []
  }
 ],
 "metadata": {
  "kernelspec": {
   "display_name": "virtual_2 (3.9.6)",
   "language": "python",
   "name": "python3"
  },
  "language_info": {
   "codemirror_mode": {
    "name": "ipython",
    "version": 3
   },
   "file_extension": ".py",
   "mimetype": "text/x-python",
   "name": "python",
   "nbconvert_exporter": "python",
   "pygments_lexer": "ipython3",
   "version": "3.9.6"
  }
 },
 "nbformat": 4,
 "nbformat_minor": 5
}
