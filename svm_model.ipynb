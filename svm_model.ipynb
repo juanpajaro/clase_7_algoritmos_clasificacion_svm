{
 "cells": [
  {
   "cell_type": "code",
   "execution_count": null,
   "id": "e7f8c85c",
   "metadata": {
    "vscode": {
     "languageId": "plaintext"
    }
   },
   "outputs": [],
   "source": [
    "import matplotlib.pyplot as plt\n",
    "from sklearn import datasets\n",
    "from sklearn.svm import SVC\n",
    "from sklearn.model_selection import train_test_split\n",
    "import numpy as np"
   ]
  },
  {
   "cell_type": "code",
   "execution_count": null,
   "id": "96f88276",
   "metadata": {
    "vscode": {
     "languageId": "plaintext"
    }
   },
   "outputs": [],
   "source": [
    "X, y = datasets.make_moons(noise=0.3, random_state=42)\n",
    "X_train, X_test, y_train, y_test = train_test_split(X, y, test_size=0.3, random_state=42)"
   ]
  },
  {
   "cell_type": "code",
   "execution_count": null,
   "id": "62df0fe3",
   "metadata": {
    "vscode": {
     "languageId": "plaintext"
    }
   },
   "outputs": [],
   "source": [
    "#Crear figura\n",
    "fig, axes = plt.subplots(len(C_values), len(gamma_values), figsize=(12, 10))\n",
    "plt.subplots_adjust(wspace=0.3, hspace=0.3)"
   ]
  },
  {
   "cell_type": "code",
   "execution_count": null,
   "id": "a28ce643",
   "metadata": {
    "vscode": {
     "languageId": "plaintext"
    }
   },
   "outputs": [],
   "source": [
    "#Crear malla para mostrar la frontera de decisión\n",
    "x_min, x_max = X[:, 0].min() - 0.5, X[:, 0].max() + 0.5\n",
    "y_min, y_max = X[:, 1].min() - 0.5, X[:, 1].max() + 0.5\n",
    "xx, yy = np.meshgrid(np.linspace(x_min, x_max, 300), np.linspace(y_min, y_max, 300))"
   ]
  },
  {
   "cell_type": "code",
   "execution_count": null,
   "id": "98a3d069",
   "metadata": {
    "vscode": {
     "languageId": "plaintext"
    }
   },
   "outputs": [],
   "source": [
    "#Entrenar y graficar cada combinación de C y gamma\n",
    "for i, C in enumerate(C_values):\n",
    "    for j, gamma in enumerate(gamma_values):\n",
    "        # Entrenar modelo SVM con kernel RBF\n",
    "        clf = SVC(kernel='rbf', C=C, gamma=gamma)\n",
    "        clf.fit(X_train, y_train)\n",
    "        \n",
    "        # Predicciones sobre la malla\n",
    "        Z = clf.decision_function(np.c_[xx.ravel(), yy.ravel()])\n",
    "        Z = Z.reshape(xx.shape)\n",
    "        \n",
    "        # Graficar frontera\n",
    "        ax = axes[i, j]\n",
    "        ax.contourf(xx, yy, Z, levels=np.linspace(Z.min(), Z.max(), 50),\n",
    "                    cmap=plt.cm.coolwarm, alpha=0.7)\n",
    "        \n",
    "        # Puntos de entrenamiento\n",
    "        ax.scatter(X_train[:, 0], X_train[:, 1], c=y_train,\n",
    "                   cmap=plt.cm.coolwarm, edgecolors='k')\n",
    "        \n",
    "        ax.set_title(f\"C={C}, gamma={gamma}\")\n",
    "        ax.set_xticks(())\n",
    "        ax.set_yticks(())\n",
    "\n",
    "#Título general\n",
    "fig.suptitle(\"Efecto de C y gamma en la frontera de decisión de una SVM (kernel RBF)\", fontsize=14)\n",
    "plt.show()"
   ]
  },
  {
   "cell_type": "code",
   "execution_count": null,
   "id": "904b034a",
   "metadata": {
    "vscode": {
     "languageId": "plaintext"
    }
   },
   "outputs": [],
   "source": []
  }
 ],
 "metadata": {
  "language_info": {
   "name": "python"
  }
 },
 "nbformat": 4,
 "nbformat_minor": 5
}
